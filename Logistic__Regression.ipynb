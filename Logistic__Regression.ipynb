{
  "nbformat": 4,
  "nbformat_minor": 0,
  "metadata": {
    "colab": {
      "provenance": [],
      "authorship_tag": "ABX9TyOCQcLUXY5S7bBbwO6xsVNd",
      "include_colab_link": true
    },
    "kernelspec": {
      "name": "python3",
      "display_name": "Python 3"
    },
    "language_info": {
      "name": "python"
    }
  },
  "cells": [
    {
      "cell_type": "markdown",
      "metadata": {
        "id": "view-in-github",
        "colab_type": "text"
      },
      "source": [
        "<a href=\"https://colab.research.google.com/github/RChandana/AI/blob/main/Logistic__Regression.ipynb\" target=\"_parent\"><img src=\"https://colab.research.google.com/assets/colab-badge.svg\" alt=\"Open In Colab\"/></a>"
      ]
    },
    {
      "cell_type": "code",
      "execution_count": null,
      "metadata": {
        "id": "Z5za-ANYjc7Y"
      },
      "outputs": [],
      "source": [
        "import numpy as np\n",
        "import matplotlib.pyplot as plt\n",
        "import pandas as pd\n",
        "from sklearn.model_selection import train_test_split\n",
        "from sklearn.linear_model import LogisticRegression\n",
        "from sklearn.metrics import accuracy_score\n",
        "classifier = LogisticRegression()"
      ]
    },
    {
      "cell_type": "code",
      "source": [
        "dataframe = pd.read_csv(\"/content/ex1.txt\")\n",
        "X = dataframe.iloc[:, :-1].values\n",
        "y = dataframe.iloc[:, -1].values\n",
        "\n",
        "X_train, X_test, y_train, y_test = train_test_split(X, y, test_size=0.3)\n",
        "classifier.fit(X_train, y_train)\n",
        "test1 = classifier.predict([[55, 80]])\n",
        "test1"
      ],
      "metadata": {
        "colab": {
          "base_uri": "https://localhost:8080/"
        },
        "id": "tozsrf5VDHRo",
        "outputId": "d871bf40-6743-4724-a9e2-f36acb555f50"
      },
      "execution_count": null,
      "outputs": [
        {
          "output_type": "execute_result",
          "data": {
            "text/plain": [
              "array([1])"
            ]
          },
          "metadata": {},
          "execution_count": 2
        }
      ]
    },
    {
      "cell_type": "code",
      "source": [
        "accuracyTestSet = classifier.score(X_test, y_test)\n",
        "accuracyTrainSet = classifier.score(X_train, y_train)\n",
        "\n",
        "print(\"\\nThe accuracy of the 1st training dataset is: \", accuracyTrainSet)\n",
        "print(\"\\nThe accuracy of the 1st test dataset is: \", accuracyTestSet)"
      ],
      "metadata": {
        "colab": {
          "base_uri": "https://localhost:8080/"
        },
        "id": "PFnszHEdG__0",
        "outputId": "1dd085e8-8a17-426b-987d-2ebdb86b0fd8"
      },
      "execution_count": null,
      "outputs": [
        {
          "output_type": "stream",
          "name": "stdout",
          "text": [
            "\n",
            "The accuracy of the 1st training dataset is:  0.9130434782608695\n",
            "\n",
            "The accuracy of the 1st test dataset is:  0.9\n"
          ]
        }
      ]
    },
    {
      "cell_type": "code",
      "source": [
        "df = pd.read_csv(\"/content/ex2.txt\")\n",
        "X = df.iloc[:, :-1].values\n",
        "y = df.iloc[:, -1].values\n",
        "\n",
        "X_train, X_test, y_train, y_test = train_test_split(X, y, test_size=0.3)\n",
        "classifier.fit(X_train, y_train)\n",
        "accuracyTestSet = classifier.score(X_test, y_test)\n",
        "accuracyTrainSet = classifier.score(X_train, y_train)\n",
        "\n",
        "print(\"\\nThe accuracy of the 2nd training dataset is: \", accuracyTrainSet)\n",
        "print(\"\\nThe accuracy of the 2nd test dataset is: \", accuracyTestSet)"
      ],
      "metadata": {
        "colab": {
          "base_uri": "https://localhost:8080/"
        },
        "id": "lTGZp1dNHAwT",
        "outputId": "67351b0c-b5a4-4cc9-8896-b0e0c2e7d6f9"
      },
      "execution_count": null,
      "outputs": [
        {
          "output_type": "stream",
          "name": "stdout",
          "text": [
            "\n",
            "The accuracy of the 2nd training dataset is:  0.6049382716049383\n",
            "\n",
            "The accuracy of the 2nd test dataset is:  0.4166666666666667\n"
          ]
        }
      ]
    }
  ]
}