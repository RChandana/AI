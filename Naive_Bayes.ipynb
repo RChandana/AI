{
  "nbformat": 4,
  "nbformat_minor": 0,
  "metadata": {
    "colab": {
      "provenance": [],
      "authorship_tag": "ABX9TyO91peQb3EtUQ7UAwDquF+p",
      "include_colab_link": true
    },
    "kernelspec": {
      "name": "python3",
      "display_name": "Python 3"
    },
    "language_info": {
      "name": "python"
    }
  },
  "cells": [
    {
      "cell_type": "markdown",
      "metadata": {
        "id": "view-in-github",
        "colab_type": "text"
      },
      "source": [
        "<a href=\"https://colab.research.google.com/github/RChandana/AI/blob/main/Naive_Bayes.ipynb\" target=\"_parent\"><img src=\"https://colab.research.google.com/assets/colab-badge.svg\" alt=\"Open In Colab\"/></a>"
      ]
    },
    {
      "cell_type": "code",
      "execution_count": 52,
      "metadata": {
        "colab": {
          "base_uri": "https://localhost:8080/"
        },
        "id": "35755ClH0Kdg",
        "outputId": "ce2812a3-0bb0-40dd-a792-ff7cc150285b"
      },
      "outputs": [
        {
          "output_type": "stream",
          "name": "stdout",
          "text": [
            "Number of males: 50\n",
            "Number of females: 50\n"
          ]
        }
      ],
      "source": [
        "import csv\n",
        "with open('/content/Naive_Bayes.csv', 'r') as file:\n",
        "    reader = csv.DictReader(file)\n",
        "    data = list(reader)\n",
        "\n",
        "num_males = 0\n",
        "num_females = 0\n",
        "\n",
        "for row in data:\n",
        "    if row['GENDER'] == 'male':\n",
        "        num_males += 1\n",
        "    elif row['GENDER'] == 'female':\n",
        "        num_females += 1\n",
        "\n",
        "print(f\"Number of males: {num_males}\")\n",
        "print(f\"Number of females: {num_females}\")"
      ]
    },
    {
      "cell_type": "code",
      "source": [
        "import pandas as pd\n",
        "df = pd.read_csv(\"/content/Naive_Bayes.csv\")\n",
        "male_df = df[df['GENDER'] == 'male']\n",
        "female_df = df[df['GENDER'] == 'female']\n",
        "print(\"Names of males:\")\n",
        "for name in male_df['NAME']:\n",
        "    print(name)\n",
        "\n",
        "print(\"\\nNames of females:\")\n",
        "for name in female_df['NAME']:\n",
        "    print(name)"
      ],
      "metadata": {
        "colab": {
          "base_uri": "https://localhost:8080/"
        },
        "id": "HHue1JjE21W5",
        "outputId": "48e516ed-0eb1-46d2-9123-16f9331bd2b1"
      },
      "execution_count": 53,
      "outputs": [
        {
          "output_type": "stream",
          "name": "stdout",
          "text": [
            "Names of males:\n",
            "Randy Carter\n",
            "Jessie Morgan\n",
            "David Reed\n",
            "Stephen Jones\n",
            "Jerry Allen\n",
            "Billy Wright\n",
            "Earl Green\n",
            "Todd Bell\n",
            "Martin White\n",
            "Kenneth Cox\n",
            "Frank Perry\n",
            "Wayne Sanders\n",
            "Henry Smith\n",
            "Alan Foster\n",
            "Paul Henderson\n",
            "Jack Lewis\n",
            "Bobby Parker\n",
            "Keith Flores\n",
            "Carl Bryant\n",
            "Brian King\n",
            "Anthony Anderson\n",
            "Peter Harris\n",
            "Willie Lee\n",
            "Albert Lopez\n",
            "Benjamin Edwards\n",
            "Steve Clark\n",
            "Gerald Turner\n",
            "Craig Collins\n",
            "Douglas Griffin\n",
            "Joshua Davis\n",
            "Raymond Kelly\n",
            "Eric Price\n",
            "Shawn Nelson\n",
            "Justin Richardson\n",
            "Arthur Rivera\n",
            "Adam Ross\n",
            "Fred Taylor\n",
            "George Evans\n",
            "Jessie Johnson\n",
            "William Powell\n",
            "Andrew Roberts\n",
            "Richard Wilson\n",
            "Harry Scott\n",
            "Chris Perez\n",
            "Edward Martin\n",
            "Donald Howard\n",
            "Thomas Ramirez\n",
            "Johnny Stewart\n",
            "Matthew Rodriguez\n",
            "Louis Bennett\n",
            "\n",
            "Names of females:\n",
            "Stephanie Smith\n",
            "Cynthia Watson\n",
            "Katherine Carter\n",
            "Elizabeth Ross\n",
            "Carol King\n",
            "Christina Foster\n",
            "Beverly Long\n",
            "Sharon Cooper\n",
            "Denise Bryant\n",
            "Rebecca Jenkins\n",
            "Alice Sanders\n",
            "Ashley Mitchell\n",
            "Sarah Edwards\n",
            "Betty Griffin\n",
            "Kimberly Martin\n",
            "Julie Jones\n",
            "Donna Howard\n",
            "Marie Lewis\n",
            "Paula Kelly\n",
            "Irene Taylor\n",
            "Barbara Hall\n",
            "Evelyn Peterson\n",
            "Kelly Flores\n",
            "Jessie Bell\n",
            "Laura Rivera\n",
            "Marilyn Walker\n",
            "Jessie Washington\n",
            "Diana Miller\n",
            "Jessie Davis\n",
            "Sandra Johnson\n",
            "Ann Perry\n",
            "Helen Diaz\n",
            "Nicole Bailey\n",
            "Lisa Powell\n",
            "Julia Brooks\n",
            "Louise Simmons\n",
            "Anna Cox\n",
            "Brenda Evans\n",
            "Deborah Hughes\n",
            "Angela Price\n",
            "Sara Hill\n",
            "Maria Jackson\n",
            "Debra Gray\n",
            "Lillian Henderson\n",
            "Theresa Collins\n",
            "Phyllis Clark\n",
            "Jessie Thomas\n",
            "Emily Gonzalez\n",
            "Doris Nelson\n",
            "Janice Moore\n"
          ]
        }
      ]
    },
    {
      "cell_type": "code",
      "source": [
        "males = df[df['GENDER'] == 'male']\n",
        "print(males[['NAME', 'HEIGHT', 'WEIGHT']])"
      ],
      "metadata": {
        "colab": {
          "base_uri": "https://localhost:8080/"
        },
        "id": "WdArWIjw4uX9",
        "outputId": "1b129de2-945f-4b92-e813-b29e124f94f5"
      },
      "execution_count": 54,
      "outputs": [
        {
          "output_type": "stream",
          "name": "stdout",
          "text": [
            "                 NAME  HEIGHT  WEIGHT\n",
            "0        Randy Carter     184      73\n",
            "3       Jessie Morgan     175      67\n",
            "5          David Reed     187      60\n",
            "6       Stephen Jones     192      96\n",
            "7         Jerry Allen     204      91\n",
            "8        Billy Wright     180      66\n",
            "9          Earl Green     184      52\n",
            "10          Todd Bell     174      53\n",
            "11       Martin White     177      91\n",
            "13        Kenneth Cox     200      82\n",
            "14        Frank Perry     193      79\n",
            "15      Wayne Sanders     189      79\n",
            "17        Henry Smith     188      53\n",
            "18        Alan Foster     187      81\n",
            "19     Paul Henderson     187      99\n",
            "20         Jack Lewis     190      81\n",
            "23       Bobby Parker     180      67\n",
            "24       Keith Flores     155      48\n",
            "25        Carl Bryant     201     122\n",
            "28         Brian King     171      50\n",
            "32   Anthony Anderson     163      53\n",
            "35       Peter Harris     191      55\n",
            "36         Willie Lee     175      37\n",
            "39       Albert Lopez     170      78\n",
            "40   Benjamin Edwards     178      79\n",
            "45        Steve Clark     191      81\n",
            "47      Gerald Turner     176      61\n",
            "50      Craig Collins     168      46\n",
            "52    Douglas Griffin     169      67\n",
            "54       Joshua Davis     173      61\n",
            "55      Raymond Kelly     180      74\n",
            "56         Eric Price     212      59\n",
            "58       Shawn Nelson     189      67\n",
            "62  Justin Richardson     174      69\n",
            "63      Arthur Rivera     167      47\n",
            "69          Adam Ross     193      96\n",
            "71        Fred Taylor     164      54\n",
            "73       George Evans     171      52\n",
            "75     Jessie Johnson     165      30\n",
            "77     William Powell     198      75\n",
            "79     Andrew Roberts     185      71\n",
            "80     Richard Wilson     175      58\n",
            "81        Harry Scott     195      89\n",
            "86        Chris Perez     164      55\n",
            "88      Edward Martin     187      76\n",
            "90      Donald Howard     192     101\n",
            "91     Thomas Ramirez     175      56\n",
            "92     Johnny Stewart     190     100\n",
            "93  Matthew Rodriguez     164      63\n",
            "98      Louis Bennett     161      18\n"
          ]
        }
      ]
    },
    {
      "cell_type": "code",
      "source": [
        "import matplotlib.pyplot as plt\n",
        "print(df.describe())\n",
        "plt.hist(df[\"WEIGHT\"])\n",
        "plt.title(\"Weight distribution\")\n",
        "plt.xlabel(\"WEIGHT\")\n",
        "plt.ylabel(\"Count\")\n",
        "plt.show()\n",
        "colors = {\"male\": \"blue\", \"female\": \"red\"}\n",
        "plt.scatter(df[\"HEIGHT\"], df[\"WEIGHT\"], c=df[\"GENDER\"].apply(lambda x: colors[x]))\n",
        "plt.title(\"Height vs. Weight\")\n",
        "plt.xlabel(\"HEIGHT\")\n",
        "plt.ylabel(\"WEIGHT\")\n",
        "plt.show()"
      ],
      "metadata": {
        "colab": {
          "base_uri": "https://localhost:8080/",
          "height": 1000
        },
        "id": "i6FXoRSf76XG",
        "outputId": "ce2ef443-b40a-46a4-b57a-5898eeed67c8"
      },
      "execution_count": 55,
      "outputs": [
        {
          "output_type": "stream",
          "name": "stdout",
          "text": [
            "           HEIGHT      WEIGHT\n",
            "count  100.000000  100.000000\n",
            "mean   172.410000   63.340000\n",
            "std     14.913959   17.711618\n",
            "min    131.000000   18.000000\n",
            "25%    163.000000   52.000000\n",
            "50%    170.000000   61.000000\n",
            "75%    183.250000   75.000000\n",
            "max    212.000000  122.000000\n"
          ]
        },
        {
          "output_type": "display_data",
          "data": {
            "text/plain": [
              "<Figure size 640x480 with 1 Axes>"
            ],
            "image/png": "[encoded data removed]"
          },
          "metadata": {}
        },
        {
          "output_type": "display_data",
          "data": {
            "text/plain": [
              "<Figure size 640x480 with 1 Axes>"
            ],
            "image/png": "[encoded data removed]"
          },
          "metadata": {}
        }
      ]
    },
    {
      "cell_type": "code",
      "source": [
        "import pandas as pd\n",
        "from sklearn.model_selection import train_test_split\n",
        "from sklearn.naive_bayes import GaussianNB\n",
        "from sklearn.metrics import accuracy_score\n",
        "\n",
        "df.drop(columns=['NAME'], inplace=True)\n",
        "X_train, X_test, y_train, y_test = train_test_split(df.iloc[:, :-1], df.iloc[:, -1], test_size=0.3, random_state=42)\n",
        "nb = GaussianNB()\n",
        "nb.fit(X_train, y_train)\n",
        "y_pred = nb.predict(X_test)\n",
        "accuracy = accuracy_score(y_test, y_pred)\n",
        "print(\"Accuracy:\", accuracy)"
      ],
      "metadata": {
        "id": "sWua0mjD8PRe",
        "colab": {
          "base_uri": "https://localhost:8080/"
        },
        "outputId": "635263e8-e006-42c8-a2fc-6f214ab8f0c2"
      },
      "execution_count": 56,
      "outputs": [
        {
          "output_type": "stream",
          "name": "stdout",
          "text": [
            "Accuracy: 0.8\n"
          ]
        }
      ]
    }
  ]
}